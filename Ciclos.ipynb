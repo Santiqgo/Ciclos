{
 "cells": [
  {
   "cell_type": "code",
   "execution_count": 1,
   "metadata": {},
   "outputs": [],
   "source": [
    "import numpy as np\n",
    "import matplotlib.pylab as plt"
   ]
  },
  {
   "cell_type": "markdown",
   "metadata": {},
   "source": [
    "Realice diagramas PV para los ciclos idealizados (es decir, asuma que el sistema ó sustancia de\n",
    "trabajo es un gas ideal) de las siguientes máquinas térmicas:\n",
    "\n",
    "(a) Ciclo de Otto\n",
    "\n",
    "(b) Ciclo de Diesel\n",
    "\n",
    "(c) Ciclo del gas ideal de Joule\n",
    "\n",
    "(d) Ciclo del gas ideal de Sargent\n",
    "\n",
    "(e) Ciclo de Stirling"
   ]
  },
  {
   "cell_type": "code",
   "execution_count": 2,
   "metadata": {},
   "outputs": [],
   "source": [
    "R=8.314472#J/molK\n",
    "V0=0#m^3    #########Volumen inicial\n",
    "P0=10**6#Pa   #########Presión inicial\n",
    "T0=273.15#K   #########Temperatura inicial"
   ]
  },
  {
   "cell_type": "markdown",
   "metadata": {},
   "source": [
    "$PV=RTn$\n",
    "\n",
    "$R=8.314472\\frac{J}{mol K}$\n",
    "\n",
    "Durante todos los procesos se toma $n=1$.\n",
    "\n",
    "Del primer al cuarto ciclo se usaron los mismos valores iniciales para la presión, temperatura y volumen."
   ]
  },
  {
   "cell_type": "markdown",
   "metadata": {},
   "source": [
    "$\\textbf{Ciclo de Otto o ciclo del motor de gasolina}$"
   ]
  },
  {
   "cell_type": "code",
   "execution_count": 3,
   "metadata": {},
   "outputs": [],
   "source": [
    "POtto=[P0]#Lista que tendrá los valores de la presión en el ciclo de Otto\n",
    "VOtto=[V0]#Lista que tendrá los valores del volumen en el ciclo de Otto\n",
    "TOtto=[T0]#Lista que tendrá los valores de la temperatura en el ciclo de Otto\n",
    "\n",
    "\"\"\"\n",
    "Primer proceso, la presión se mantiene constante, la temperatura aumenta a 300K (en el texto se da este valor) \n",
    "y el volumen se da por la relación PV=nRT\n",
    "\"\"\"\n",
    "\n",
    "POtto.append(P0)\n",
    "TOtto.append(300)\n",
    "VOtto.append(300*R/P0)\n",
    "\n",
    "\"\"\"\n",
    "Segundo proceso, el volumen disminuye a un valor que pensé, la temperatura aumenta a 580K (en el texto se da este\n",
    "valor) y la presión se da por la relación PV=nRT.\n",
    "\"\"\"\n",
    "\n",
    "VOtto.append(np.pi*0.03*(0.092**2))\n",
    "TOtto.append(580)\n",
    "POtto.append(TOtto[-1]*R/VOtto[-1])\n",
    "\n",
    "\"\"\"\n",
    "Tercer proceso, el volumen se mantiene constante, la temperatura aumenta en 800K y la presión se \n",
    "da por la relación PV=nRT.\n",
    "\"\"\"\n",
    "\n",
    "VOtto.append(VOtto[-1])\n",
    "TOtto.append(TOtto[-1]+800)\n",
    "POtto.append(TOtto[-1]*R/VOtto[-1])\n",
    "\n",
    "\"\"\"\n",
    "Cuarto proceso, el volumen aumenta hasta el primer valor no nulo que tuvo, la temperatura disminuyo en 230K \n",
    "y la presión se da por la relación PV=nRT.\n",
    "\"\"\"\n",
    "\n",
    "VOtto.append(VOtto[1])\n",
    "TOtto.append(TOtto[-1]-230)\n",
    "POtto.append(TOtto[-1]*R/VOtto[-1])\n",
    "\n",
    "\"\"\"\n",
    "Ultimo proceso del ciclo, PVT vuelven a los valores del primer proceso.\n",
    "\"\"\"\n",
    "\n",
    "VOtto.append(VOtto[1])\n",
    "TOtto.append(TOtto[1])\n",
    "POtto.append(POtto[1])\n",
    "\n",
    "\"\"\"\n",
    "Se bosqueja unas curvas que no representan al fenómeno pero que representaran momentos en\n",
    "los cuales la relación PV no da un recta.\n",
    "\"\"\"\n",
    "\n",
    "POttocurva1=np.linspace(POtto[1],POtto[2],100)\n",
    "TOttocurva1=np.linspace(TOtto[1],TOtto[2],100)\n",
    "VOttocurva1=R*TOttocurva1/POttocurva1\n",
    "\n",
    "POttocurva2=np.linspace(POtto[3],POtto[4],100)\n",
    "TOttocurva2=np.linspace(TOtto[3],TOtto[4],100)\n",
    "VOttocurva2=R*TOttocurva2/POttocurva2"
   ]
  },
  {
   "cell_type": "code",
   "execution_count": 4,
   "metadata": {},
   "outputs": [
    {
     "data": {
      "text/plain": [
       "<function matplotlib.pyplot.show(*args, **kw)>"
      ]
     },
     "execution_count": 4,
     "metadata": {},
     "output_type": "execute_result"
    },
    {
     "data": {
      "image/png": "[encoded data removed]",
      "text/plain": [
       "<Figure size 432x288 with 1 Axes>"
      ]
     },
     "metadata": {
      "needs_background": "light"
     },
     "output_type": "display_data"
    }
   ],
   "source": [
    "plt.title(\"Cilco de Otto\")\n",
    "plt.xlabel(\"V ($m^{3}$)\")\n",
    "plt.ylabel(\"P (Pa)\")\n",
    "plt.grid()\n",
    "plt.plot(VOtto,POtto,\"o\")\n",
    "plt.plot([VOtto[0],VOtto[1]],[POtto[0],POtto[1]],color=\"Red\")\n",
    "plt.plot(VOttocurva1,POttocurva1,color=\"Red\")\n",
    "plt.plot([VOtto[2],VOtto[3]],[POtto[2],POtto[3]],color=\"Red\")\n",
    "plt.plot(VOttocurva2,POttocurva2,color=\"Red\")\n",
    "plt.plot([VOtto[4],VOtto[5]],[POtto[4],POtto[5]],color=\"Red\")\n",
    "plt.show"
   ]
  },
  {
   "cell_type": "markdown",
   "metadata": {},
   "source": [
    "$\\textbf{Ciclo de Diesel}$"
   ]
  },
  {
   "cell_type": "code",
   "execution_count": 5,
   "metadata": {},
   "outputs": [],
   "source": [
    "\"\"\"\n",
    "Se toman lo valores iniciales para el ciclo de Diesel y los primeros dos procesos siendo el primero igual que el \n",
    "de Otto en el segundo solo la presión, la temperatura aumenta a 900K(valor dado por el libro) y el volumen se \n",
    "halla por la ecuación del gas ideal.\n",
    "\"\"\"\n",
    "\n",
    "PDiesel=[P0,POtto[1],POtto[2]]\n",
    "TDiesel=[T0,TOtto[1],990]\n",
    "VDiesel=[V0,VOtto[1],R*990/PDiesel[2]]\n",
    "\n",
    "\"\"\"\n",
    "Tercer proceso donde la presión se mantiene constante, el volumen debería ser un quinto del volumen en el\n",
    "primer proceso pero por las aproximaciones hechas este valor no encaja con este modelo y la temperatura \n",
    "se calcula con la ecuación de estado.\n",
    "\"\"\"\n",
    "\n",
    "PDiesel.append(PDiesel[-1])\n",
    "VDiesel.append(VDiesel[1]/1.5)\n",
    "TDiesel.append(VDiesel[-1]*PDiesel[-1]/R)\n",
    "\n",
    "\"\"\"\n",
    "Cuarto proceso, el volumen aumenta hasta el valor que tenia en el primer proceso, la presión disminuye \n",
    "hasta un valor escogido y nuevamente la temperatura es hallada por PV=nRT.\n",
    "\"\"\"\n",
    "\n",
    "VDiesel.append(VDiesel[1])\n",
    "PDiesel.append(PDiesel[-1]/2)\n",
    "TDiesel.append(VDiesel[-1]*PDiesel[-1]/R)\n",
    "\n",
    "\"\"\"\n",
    "Ultimo proceso del ciclo, PVT vuelven a los valores del primer proceso.\n",
    "\"\"\"\n",
    "\n",
    "VDiesel.append(VDiesel[1])\n",
    "TDiesel.append(TDiesel[1])\n",
    "PDiesel.append(PDiesel[1])\n",
    "\n",
    "PDieselcurva1=np.linspace(PDiesel[1],PDiesel[2],100)\n",
    "TDieselcurva1=np.linspace(TDiesel[1],TDiesel[2],100)\n",
    "VDieselcurva1=R*TDieselcurva1/PDieselcurva1\n",
    "\n",
    "PDieselcurva2=np.linspace(PDiesel[3],PDiesel[4],100)\n",
    "TDieselcurva2=np.linspace(TDiesel[3],TDiesel[4],100)\n",
    "VDieselcurva2=R*TDieselcurva2/PDieselcurva2"
   ]
  },
  {
   "cell_type": "code",
   "execution_count": 6,
   "metadata": {},
   "outputs": [
    {
     "data": {
      "text/plain": [
       "<function matplotlib.pyplot.show(*args, **kw)>"
      ]
     },
     "execution_count": 6,
     "metadata": {},
     "output_type": "execute_result"
    },
    {
     "data": {
      "image/png": "[encoded data removed]",
      "text/plain": [
       "<Figure size 432x288 with 1 Axes>"
      ]
     },
     "metadata": {
      "needs_background": "light"
     },
     "output_type": "display_data"
    }
   ],
   "source": [
    "plt.title(\"Cilco de Diesel\")\n",
    "plt.xlabel(\"V ($m^{3}$)\")\n",
    "plt.ylabel(\"P (Pa)\")\n",
    "plt.grid()\n",
    "plt.plot(VDiesel,PDiesel,\"o\")\n",
    "plt.plot([VDiesel[0],VDiesel[1]],[PDiesel[0],PDiesel[1]],color=\"Red\")\n",
    "plt.plot(VDieselcurva1,PDieselcurva1,color=\"Red\")\n",
    "plt.plot([VDiesel[2],VDiesel[3]],[PDiesel[2],PDiesel[3]],color=\"Red\")\n",
    "plt.plot(VDieselcurva2,PDieselcurva2,color=\"Red\")\n",
    "plt.plot([VDiesel[4],VDiesel[5]],[PDiesel[4],PDiesel[5]],color=\"Red\")\n",
    "plt.show"
   ]
  },
  {
   "cell_type": "markdown",
   "metadata": {},
   "source": [
    "En los próximos dos gases las aproximaciones se hacen de forma gráfica al no poder ver un modelo de donde intentar encajar los datos."
   ]
  },
  {
   "cell_type": "markdown",
   "metadata": {},
   "source": [
    "$\\textbf{Ciclo del gas ideal de Joule}$"
   ]
  },
  {
   "cell_type": "code",
   "execution_count": 7,
   "metadata": {},
   "outputs": [],
   "source": [
    "PJoule=[P0]#Lista que tendrá los valores de la presión en el ciclo del gas ideal de Joule\n",
    "VJoule=[V0]#Lista que tendrá los valores del volumen en el ciclo del gas ideal de Joule\n",
    "TJoule=[T0]#Lista que tendrá los valores de la temperatura en el ciclo del gas ideal de Joule\n",
    "\n",
    "\"\"\"\n",
    "En el primer proceso hay un aumento de volumen a presión constante de lo que podemos inferir que \n",
    "también aumenta la temperatura.\n",
    "\"\"\"\n",
    "\n",
    "PJoule.append(PJoule[0])\n",
    "VJoule.append(VOtto[1])\n",
    "TJoule.append(VJoule[-1]*PJoule[-1]/R)\n",
    "\n",
    "\"\"\"\n",
    "Supondré que de la gráfica vista en el libro como figura P6.1tiene un error en la flecha que se dirige de 2 a 1.\n",
    "\n",
    "En este segundo proceso se ve que la presión aumenta y el volumen disminuye en un proceso adiabatico, el hecho \n",
    "que no halla transferencia de calor no implica que no halla un cambio en la temperatura dejaremos que la relación \n",
    "PV=nRT sea quien nos diga si aumento o disminuyo T.\n",
    "\"\"\"\n",
    "\n",
    "PJoule.append(PJoule[-1]*5)\n",
    "VJoule.append(VJoule[-1]/3)\n",
    "TJoule.append(VJoule[-1]*PJoule[-1]/R)\n",
    "\n",
    "\"\"\"\n",
    "Luego el volumen aumenta a presión constante donde implica que la temperatura aumento\n",
    "\"\"\"\n",
    "\n",
    "PJoule.append(PJoule[-1])\n",
    "VJoule.append(VJoule[-1]*3)\n",
    "TJoule.append(VJoule[-1]*PJoule[-1]/R)\n",
    "\n",
    "\"\"\"\n",
    "Después la presión disminuye e igual a la presión inicial hasta un volumen mayor al inicial.\n",
    "\"\"\"\n",
    "\n",
    "PJoule.append(PJoule[0])\n",
    "VJoule.append(VJoule[-1]*2)\n",
    "TJoule.append(VJoule[-1]*PJoule[-1]/R)\n",
    "\n",
    "\"\"\"\n",
    "Para finalizar con los valores de presión, volumen y temperaturas del primer proceso.\n",
    "\n",
    "\"\"\"\n",
    "\n",
    "PJoule.append(PJoule[1])\n",
    "VJoule.append(VJoule[1])\n",
    "TJoule.append(TJoule[1])\n",
    "\n",
    "\n",
    "PJoulecurva1=np.linspace(PJoule[1],PJoule[2],100)\n",
    "TJoulecurva1=np.linspace(TJoule[1],TJoule[2],100)\n",
    "VJoulecurva1=R*TJoulecurva1/PJoulecurva1\n",
    "\n",
    "PJoulecurva2=np.linspace(PJoule[3],PJoule[4],100)\n",
    "TJoulecurva2=np.linspace(TJoule[3],TJoule[4],100)\n",
    "VJoulecurva2=R*TJoulecurva2/PJoulecurva2\n"
   ]
  },
  {
   "cell_type": "code",
   "execution_count": 8,
   "metadata": {},
   "outputs": [
    {
     "data": {
      "text/plain": [
       "<function matplotlib.pyplot.show(*args, **kw)>"
      ]
     },
     "execution_count": 8,
     "metadata": {},
     "output_type": "execute_result"
    },
    {
     "data": {
      "image/png": "[encoded data removed]",
      "text/plain": [
       "<Figure size 432x288 with 1 Axes>"
      ]
     },
     "metadata": {
      "needs_background": "light"
     },
     "output_type": "display_data"
    }
   ],
   "source": [
    "plt.title(\"Cilco del gas ideal de Joule\")\n",
    "plt.xlabel(\"V ($m^{3}$)\")\n",
    "plt.ylabel(\"P (Pa)\")\n",
    "plt.grid()\n",
    "plt.plot(VJoule,PJoule,\"o\")\n",
    "plt.plot([VJoule[0],VJoule[1]],[PJoule[0],PJoule[1]],color=\"Red\")\n",
    "plt.plot(VJoulecurva1,PJoulecurva1,color=\"Red\")\n",
    "plt.plot([VJoule[2],VJoule[3]],[PJoule[2],PJoule[3]],color=\"Red\")\n",
    "plt.plot(VJoulecurva2,PJoulecurva2,color=\"Red\")\n",
    "plt.plot([VJoule[4],VJoule[5]],[PJoule[4],PJoule[5]],color=\"Red\")\n",
    "plt.show"
   ]
  },
  {
   "cell_type": "markdown",
   "metadata": {},
   "source": [
    "$\\textbf{Ciclo del gas ideal de Sargent}$"
   ]
  },
  {
   "cell_type": "code",
   "execution_count": 9,
   "metadata": {},
   "outputs": [],
   "source": [
    "PSargent=[P0,P0]#Lista que tendrá los valores de la presión en el ciclo del gas ideal de Sargent\n",
    "VSargent=[V0,VJoule[1]]#Lista que tendrá los valores del volumen en el ciclo del gas ideal de Sargent\n",
    "TSargent=[T0,TJoule[1]]#Lista que tendrá los valores de la temperatura en el ciclo del gas ideal de Sargent\n",
    "\n",
    "\"\"\"\n",
    "En este segundo proceso se ve que la presión aumenta y el volumen disminuye en un proceso adiabatico, el hecho \n",
    "que no halla transferencia de calor no implica que no halla un cambio en la temperatura dejaremos que la relación \n",
    "PV=nRT sea quien nos diga si aumento o disminuyo T.\n",
    "\"\"\"\n",
    "\n",
    "PSargent.append(PSargent[-1]*3)\n",
    "VSargent.append(VSargent[-1]/6.2)\n",
    "TSargent.append(VSargent[-1]*PSargent[-1]/R)\n",
    "\n",
    "\"\"\"\n",
    "Luego se observa un proceso isocorico de donde inferimos que la temperatura al igual que presión aumentan.\n",
    "\"\"\"\n",
    "\n",
    "PSargent.append(PSargent[-1]*1.4)\n",
    "VSargent.append(VSargent[-1])\n",
    "TSargent.append(VSargent[-1]*PSargent[-1]/R)\n",
    "\n",
    "\"\"\"\n",
    "Luego la presión disminuye hasta el valor inicial mientras que el volumen aumenta a su valor máximo en todo \n",
    "el ciclo.\n",
    "\"\"\"\n",
    "\n",
    "PSargent.append(PSargent[1])\n",
    "VSargent.append(VSargent[1]*2.4)\n",
    "TSargent.append(VSargent[-1]*PSargent[-1]/R)\n",
    "\n",
    "\"\"\"\n",
    "Para finalizar a los valores del primer proceso \n",
    "\"\"\"\n",
    "\n",
    "PSargent.append(PSargent[1])\n",
    "VSargent.append(VSargent[1])\n",
    "TSargent.append(TSargent[1])\n",
    "\n",
    "PSargentcurva1=np.linspace(PSargent[1],PSargent[2],100)\n",
    "TSargentcurva1=np.linspace(TSargent[1],TSargent[2],100)\n",
    "VSargentcurva1=R*TSargentcurva1/PSargentcurva1\n",
    "\n",
    "PSargentcurva2=np.linspace(PSargent[3],PSargent[4],100)\n",
    "TSargentcurva2=np.linspace(TSargent[3],TSargent[4],100)\n",
    "VSargentcurva2=R*TSargentcurva2/PSargentcurva2"
   ]
  },
  {
   "cell_type": "code",
   "execution_count": 10,
   "metadata": {
    "scrolled": true
   },
   "outputs": [
    {
     "data": {
      "text/plain": [
       "<function matplotlib.pyplot.show(*args, **kw)>"
      ]
     },
     "execution_count": 10,
     "metadata": {},
     "output_type": "execute_result"
    },
    {
     "data": {
      "image/png": "[encoded data removed]",
      "text/plain": [
       "<Figure size 432x288 with 1 Axes>"
      ]
     },
     "metadata": {
      "needs_background": "light"
     },
     "output_type": "display_data"
    }
   ],
   "source": [
    "plt.title(\"Cilco del gas ideal de Sargent\")\n",
    "plt.xlabel(\"V ($m^{3}$)\")\n",
    "plt.ylabel(\"P (Pa)\")\n",
    "plt.grid()\n",
    "plt.plot(VSargent,PSargent,\"o\")\n",
    "plt.plot([VSargent[0],VSargent[1]],[PSargent[0],PSargent[1]],color=\"Red\")\n",
    "plt.plot(VSargentcurva1,PSargentcurva1,color=\"Red\")\n",
    "plt.plot([VSargent[2],VSargent[3]],[PSargent[2],PSargent[3]],color=\"Red\")\n",
    "plt.plot(VSargentcurva2,PSargentcurva2,color=\"Red\")\n",
    "plt.plot([VSargent[4],VSargent[5]],[PSargent[4],PSargent[5]],color=\"Red\")\n",
    "plt.show"
   ]
  },
  {
   "cell_type": "markdown",
   "metadata": {},
   "source": [
    "$\\textbf{Ciclo de Stirling}$"
   ]
  },
  {
   "cell_type": "code",
   "execution_count": 11,
   "metadata": {},
   "outputs": [],
   "source": [
    "PStirling=[P0]#Lista que tendrá los valores de la presión en el ciclo de Stirling\n",
    "VStirling=[0.002]#Lista que tendrá los valores del volumen en el ciclo de Stirling\n",
    "TStirling=[T0,T0]#Lista que tendrá los valores de la temperatura en el ciclo de Stirling\n",
    "\n",
    "\"\"\"\n",
    "Aproximadamente el primer proceso es isotermico, se aumento la presión y disminuyo el volumen,\n",
    "\"\"\"\n",
    "\n",
    "VStirling.append(VStirling[0]/3)\n",
    "PStirling.append(TStirling[1]*R/VStirling[1])\n",
    "\n",
    "\"\"\"\n",
    "Luego inicia un proceso isocorico donde la presión y temperatura alcanzan su valor maximo.\n",
    "\"\"\"\n",
    "\n",
    "VStirling.append(VStirling[-1])\n",
    "PStirling.append(PStirling[-1]*1.5)\n",
    "TStirling.append(PStirling[-1]*VStirling[-1]/R)\n",
    "\n",
    "\"\"\"\n",
    "Para luego tener una expansión isotérmica  hasta el volumen inicial donde disminuye la presión.\n",
    "\"\"\"\n",
    "\n",
    "VStirling.append(VStirling[0])\n",
    "TStirling.append(TStirling[-1])\n",
    "PStirling.append(TStirling[-1]*R/VStirling[-1])\n",
    "\n",
    "\"\"\"\n",
    "Todo vuelve al valor inicial.\n",
    "\"\"\"\n",
    "\n",
    "VStirling.append(VStirling[0])\n",
    "TStirling.append(TStirling[0])\n",
    "PStirling.append(PStirling[0])\n",
    "\n",
    "\n",
    "\n",
    "VStirlingcurva1=np.linspace(VStirling[0],VStirling[1],100)\n",
    "TStirlingcurva1=np.linspace(TStirling[0],TStirling[1],100)\n",
    "PStirlingcurva1=R*TStirlingcurva1/VStirlingcurva1\n",
    "\n",
    "VStirlingcurva2=np.linspace(VStirling[2],VStirling[3],100)\n",
    "TStirlingcurva2=np.linspace(TStirling[2],TStirling[3],100)\n",
    "PStirlingcurva2=R*TStirlingcurva2/VStirlingcurva2\n"
   ]
  },
  {
   "cell_type": "code",
   "execution_count": 12,
   "metadata": {},
   "outputs": [
    {
     "data": {
      "text/plain": [
       "<function matplotlib.pyplot.show(*args, **kw)>"
      ]
     },
     "execution_count": 12,
     "metadata": {},
     "output_type": "execute_result"
    },
    {
     "data": {
      "image/png": "[encoded data removed]",
      "text/plain": [
       "<Figure size 432x288 with 1 Axes>"
      ]
     },
     "metadata": {
      "needs_background": "light"
     },
     "output_type": "display_data"
    }
   ],
   "source": [
    "plt.title(\"Cilco del gas ideal de Stirling\")\n",
    "plt.xlabel(\"V ($m^{3}$)\")\n",
    "plt.ylabel(\"P (Pa)\")\n",
    "plt.grid()\n",
    "plt.plot(VStirling,PStirling,\"o\")\n",
    "plt.plot(VStirlingcurva1,PStirlingcurva1,color=\"Red\")\n",
    "plt.plot([VStirling[1],VStirling[2]],[PStirling[1],PStirling[2]],color=\"Red\")\n",
    "plt.plot(VStirlingcurva2,PStirlingcurva2,color=\"Red\")\n",
    "plt.plot([VStirling[3],VStirling[4]],[PStirling[3],PStirling[4]],color=\"Red\")\n",
    "plt.show"
   ]
  },
  {
   "cell_type": "code",
   "execution_count": null,
   "metadata": {},
   "outputs": [],
   "source": []
  },
  {
   "cell_type": "code",
   "execution_count": null,
   "metadata": {},
   "outputs": [],
   "source": []
  },
  {
   "cell_type": "code",
   "execution_count": null,
   "metadata": {},
   "outputs": [],
   "source": []
  },
  {
   "cell_type": "code",
   "execution_count": null,
   "metadata": {},
   "outputs": [],
   "source": []
  },
  {
   "cell_type": "code",
   "execution_count": null,
   "metadata": {},
   "outputs": [],
   "source": []
  }
 ],
 "metadata": {
  "kernelspec": {
   "display_name": "Python 3",
   "language": "python",
   "name": "python3"
  },
  "language_info": {
   "codemirror_mode": {
    "name": "ipython",
    "version": 3
   },
   "file_extension": ".py",
   "mimetype": "text/x-python",
   "name": "python",
   "nbconvert_exporter": "python",
   "pygments_lexer": "ipython3",
   "version": "3.6.7"
  }
 },
 "nbformat": 4,
 "nbformat_minor": 2
}
